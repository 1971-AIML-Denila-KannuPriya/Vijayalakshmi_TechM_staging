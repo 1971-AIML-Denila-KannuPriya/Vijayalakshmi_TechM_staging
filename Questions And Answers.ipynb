{
 "cells": [
  {
   "cell_type": "code",
   "execution_count": 2,
   "id": "2404e23b-db29-4aa5-ae3d-94762d1440ce",
   "metadata": {},
   "outputs": [
    {
     "name": "stdout",
     "output_type": "stream",
     "text": [
      "   Pregnancies  Glucose  BloodPressure  SkinThickness  Insulin   BMI  \\\n",
      "0            6      148             72             35        0  33.6   \n",
      "1            1       85             66             29        0  26.6   \n",
      "2            8      183             64              0        0  23.3   \n",
      "3            1       89             66             23       94  28.1   \n",
      "4            0      137             40             35      168  43.1   \n",
      "\n",
      "   DiabetesPedigreeFunction  Age  Outcome  \n",
      "0                     0.627   50        1  \n",
      "1                     0.351   31        0  \n",
      "2                     0.672   32        1  \n",
      "3                     0.167   21        0  \n",
      "4                     2.288   33        1  \n"
     ]
    }
   ],
   "source": [
    "#1. How to load a CSV file into a Pandas DataFrame?\n",
    "import pandas as pd\n",
    "# Load a CSV file into a DataFrame\n",
    "url = \"https://raw.githubusercontent.com/plotly/datasets/master/diabetes.csv\"\n",
    "df = pd.read_csv(url)\n",
    "print(df.head())  # Display the first 5 rows\n"
   ]
  },
  {
   "cell_type": "code",
   "execution_count": 3,
   "id": "788a86f5-1083-4d78-ba4a-9273070b4db8",
   "metadata": {},
   "outputs": [
    {
     "name": "stdout",
     "output_type": "stream",
     "text": [
      "       Pregnancies     Glucose  BloodPressure  SkinThickness     Insulin  \\\n",
      "count   768.000000  768.000000     768.000000     768.000000  768.000000   \n",
      "mean      3.845052  120.894531      69.105469      20.536458   79.799479   \n",
      "std       3.369578   31.972618      19.355807      15.952218  115.244002   \n",
      "min       0.000000    0.000000       0.000000       0.000000    0.000000   \n",
      "25%       1.000000   99.000000      62.000000       0.000000    0.000000   \n",
      "50%       3.000000  117.000000      72.000000      23.000000   30.500000   \n",
      "75%       6.000000  140.250000      80.000000      32.000000  127.250000   \n",
      "max      17.000000  199.000000     122.000000      99.000000  846.000000   \n",
      "\n",
      "              BMI  DiabetesPedigreeFunction         Age     Outcome  \n",
      "count  768.000000                768.000000  768.000000  768.000000  \n",
      "mean    31.992578                  0.471876   33.240885    0.348958  \n",
      "std      7.884160                  0.331329   11.760232    0.476951  \n",
      "min      0.000000                  0.078000   21.000000    0.000000  \n",
      "25%     27.300000                  0.243750   24.000000    0.000000  \n",
      "50%     32.000000                  0.372500   29.000000    0.000000  \n",
      "75%     36.600000                  0.626250   41.000000    1.000000  \n",
      "max     67.100000                  2.420000   81.000000    1.000000  \n"
     ]
    }
   ],
   "source": [
    "#2. How to perform basic statistical exploration of a DataFrame?\n",
    "\n",
    "# Explore basic statistics of the DataFrame\n",
    "print(df.describe())  # Get statistical summaries of numerical columns"
   ]
  },
  {
   "cell_type": "code",
   "execution_count": 4,
   "id": "0767d1c4-3066-45fb-9cfb-2586455bbbb2",
   "metadata": {},
   "outputs": [
    {
     "name": "stdout",
     "output_type": "stream",
     "text": [
      "Pregnancies                 0\n",
      "Glucose                     0\n",
      "BloodPressure               0\n",
      "SkinThickness               0\n",
      "Insulin                     0\n",
      "BMI                         0\n",
      "DiabetesPedigreeFunction    0\n",
      "Age                         0\n",
      "Outcome                     0\n",
      "dtype: int64\n"
     ]
    }
   ],
   "source": [
    "#3. How to handle missing values in a DataFrame?\n",
    "# Check for missing values\n",
    "print(df.isnull().sum())  # Count missing values in each column\n",
    "\n",
    "# Fill missing values with the mean\n",
    "df.fillna(df.mean(), inplace=True)"
   ]
  },
  {
   "cell_type": "code",
   "execution_count": 6,
   "id": "b61bfb00-62ad-45bf-86c7-75060470825e",
   "metadata": {},
   "outputs": [
    {
     "name": "stdout",
     "output_type": "stream",
     "text": [
      "   Pregnancies  SkinThickness\n",
      "0            6             35\n",
      "1            1             29\n",
      "2            8              0\n",
      "3            1             23\n",
      "4            0             35\n"
     ]
    }
   ],
   "source": [
    "#4. How to select specific columns from a DataFrame?\n",
    "# Select specific columns from the DataFrame\n",
    "selected_columns = df[['Pregnancies', 'SkinThickness']]\n",
    "print(selected_columns.head())"
   ]
  },
  {
   "cell_type": "code",
   "execution_count": 8,
   "id": "fb2b5d2b-7fb9-485f-8b78-b2661de2fa0e",
   "metadata": {},
   "outputs": [
    {
     "data": {
      "image/png": "[encoded data removed]",
      "text/plain": [
       "<Figure size 640x480 with 1 Axes>"
      ]
     },
     "metadata": {},
     "output_type": "display_data"
    }
   ],
   "source": [
    "#5. How to create a histogram of a specific column in a DataFrame?\n",
    "import matplotlib.pyplot as plt\n",
    "\n",
    "# Plot a histogram of a specific column\n",
    "plt.hist(df['Pregnancies'], bins=20, color='blue', alpha=0.7)\n",
    "plt.title('Histogram of Feature1')\n",
    "plt.xlabel('Feature1')\n",
    "plt.ylabel('Frequency')\n",
    "plt.show()"
   ]
  },
  {
   "cell_type": "code",
   "execution_count": 10,
   "id": "8e2fe723-91c9-42cd-bd57-6634e783a245",
   "metadata": {},
   "outputs": [
    {
     "name": "stdout",
     "output_type": "stream",
     "text": [
      "   Pregnancies  Glucose  BloodPressure  SkinThickness  Insulin   BMI  \\\n",
      "0            6      148       0.590164       0.353535        0  33.6   \n",
      "1            1       85       0.540984       0.292929        0  26.6   \n",
      "2            8      183       0.524590       0.000000        0  23.3   \n",
      "3            1       89       0.540984       0.232323       94  28.1   \n",
      "4            0      137       0.327869       0.353535      168  43.1   \n",
      "\n",
      "   DiabetesPedigreeFunction  Age  Outcome  \n",
      "0                     0.627   50        1  \n",
      "1                     0.351   31        0  \n",
      "2                     0.672   32        1  \n",
      "3                     0.167   21        0  \n",
      "4                     2.288   33        1  \n"
     ]
    }
   ],
   "source": [
    "#6. How to normalize features in a DataFrame?\n",
    "\n",
    "from sklearn.preprocessing import MinMaxScaler\n",
    "\n",
    "# Normalize the features\n",
    "scaler = MinMaxScaler()\n",
    "df[['BloodPressure', 'SkinThickness']] = scaler.fit_transform(df[['BloodPressure', 'SkinThickness']])\n",
    "print(df.head())"
   ]
  },
  {
   "cell_type": "code",
   "execution_count": 12,
   "id": "9d95eda5-80ed-44ab-abe3-91a4cbc316c6",
   "metadata": {},
   "outputs": [],
   "source": [
    "#7. How to split data into training and testing sets?\n",
    "\n",
    "from sklearn.model_selection import train_test_split\n",
    "\n",
    "# Split the data into training and testing sets\n",
    "X = df[['Glucose', 'BloodPressure']]\n",
    "y = df['BMI']\n",
    "X_train, X_test, y_train, y_test = train_test_split(X, y, test_size=0.2, random_state=42)"
   ]
  },
  {
   "cell_type": "code",
   "execution_count": 13,
   "id": "c60e4bbe-bc7b-42f6-8905-9ca98c777f5d",
   "metadata": {},
   "outputs": [
    {
     "name": "stdout",
     "output_type": "stream",
     "text": [
      "[29.98048728 32.14101355 30.95062901 32.40229417 34.52533007 31.49179143\n",
      " 27.939527   25.34915746 33.58471985 33.85721878 31.63350606 36.75642567\n",
      " 32.21896576 31.39111462 29.57010916 30.34215672 30.712073   30.42097289\n",
      " 28.05765306 32.35713294 31.71941712 31.43598786 31.61490487 30.45817527\n",
      " 32.93195029 35.93538144 30.61849108 31.55526587 32.75686872 31.10384994\n",
      " 34.28619809 33.81618097 35.37561783 27.40104807 33.60389701 34.06240784\n",
      " 35.16275791 33.23072127 32.79023567 25.92368683 29.44699572 31.12571059\n",
      " 32.01790011 31.53282925 32.90625421 34.12204684 31.82009393 31.16348894\n",
      " 31.86113174 34.9242019  30.46939358 34.70808251 33.94312984 32.57737574\n",
      " 32.03621332 29.92851914 33.56228323 23.83075841 32.04388418 33.41289774\n",
      " 34.14448347 32.08492199 34.23806539 30.10743615 31.64501236 34.51027633\n",
      " 29.46943234 36.24565872 31.90600499 33.95022473 32.86080499 31.97715029\n",
      " 30.62616195 32.3763101  30.93202782 34.85037311 31.85374886 29.71182378\n",
      " 31.50655719 33.64493483 33.2301453  30.78647776 29.59638121 34.857468\n",
      " 31.40204495 34.75237978 34.9953472  31.98040975 31.51422806 29.52907134\n",
      " 29.96188609 31.78672698 23.58453154 25.47227089 30.07349323 34.10728109\n",
      " 29.74902616 30.01797764 33.40906231 30.36900475 34.92803733 31.9585491\n",
      " 34.11495195 33.6295931  34.30863472 33.16724684 31.7451132  34.9242019\n",
      " 31.48086111 32.48436979 30.12603734 35.93921688 24.85670371 37.29020521\n",
      " 31.86113174 31.23405827 32.04714364 31.21929251 30.06639833 25.26708183\n",
      " 30.26775196 31.18209013 32.89474791 30.02536052 32.34207919 31.78289155\n",
      " 25.26708183 33.99893341 26.08783808 38.56621282 34.02846492 33.27501855\n",
      " 30.61849108 33.96556646 35.25250439 31.63734149 33.49554934 37.66721639\n",
      " 33.98033222 29.12252866 31.30136813 29.83877265 33.24903448 32.03621332\n",
      " 29.96188609 30.89866087 30.93969869 28.20819049 32.42089536 35.52883875\n",
      " 28.93210535 31.16348894 33.06982949 30.11510701]\n"
     ]
    }
   ],
   "source": [
    "#8. How to implement a Linear Regression model?\n",
    "\n",
    "from sklearn.linear_model import LinearRegression\n",
    "\n",
    "# Create and train the Linear Regression model\n",
    "model = LinearRegression()\n",
    "model.fit(X_train, y_train)\n",
    "\n",
    "# Make predictions\n",
    "predictions = model.predict(X_test)\n",
    "print(predictions)\n"
   ]
  },
  {
   "cell_type": "code",
   "execution_count": 14,
   "id": "879b2bc4-6563-4692-897a-6bbf4892660a",
   "metadata": {},
   "outputs": [
    {
     "name": "stdout",
     "output_type": "stream",
     "text": [
      "Mean Squared Error: 58.38042639507307\n"
     ]
    }
   ],
   "source": [
    "#9. How to calculate the Mean Squared Error of the model?\n",
    "\n",
    "from sklearn.metrics import mean_squared_error\n",
    "\n",
    "# Calculate the Mean Squared Error\n",
    "mse = mean_squared_error(y_test, predictions)\n",
    "print(f'Mean Squared Error: {mse}')"
   ]
  },
  {
   "cell_type": "code",
   "execution_count": 15,
   "id": "019e786d-24c9-4015-bf2a-82b009c6bf90",
   "metadata": {},
   "outputs": [
    {
     "data": {
      "image/png": "[encoded data removed]",
      "text/plain": [
       "<Figure size 640x480 with 1 Axes>"
      ]
     },
     "metadata": {},
     "output_type": "display_data"
    }
   ],
   "source": [
    "#10. How to visualize actual vs. predicted values?\n",
    "\n",
    "# Plot Actual vs Predicted values\n",
    "plt.scatter(y_test, predictions)\n",
    "plt.xlabel('Actual Values')\n",
    "plt.ylabel('Predicted Values')\n",
    "plt.title('Actual vs Predicted Values')\n",
    "plt.show()"
   ]
  },
  {
   "cell_type": "code",
   "execution_count": 2,
   "id": "64f836f3-fd70-46de-aa10-0175548fe227",
   "metadata": {},
   "outputs": [
    {
     "name": "stdout",
     "output_type": "stream",
     "text": [
      "Loaded data: (25000, 500), (25000,)\n"
     ]
    }
   ],
   "source": [
    "#11. How to load the IMDb dataset for sentiment analysis?\n",
    "\n",
    "from keras.datasets import imdb\n",
    "from keras.preprocessing import sequence\n",
    "\n",
    "# Load the IMDb dataset\n",
    "(X_train, y_train), (X_test, y_test) = imdb.load_data(num_words=10000)\n",
    "\n",
    "# Pad sequences to ensure uniform input size\n",
    "X_train = sequence.pad_sequences(X_train, maxlen=500)\n",
    "X_test = sequence.pad_sequences(X_test, maxlen=500)\n",
    "\n",
    "print(f'Loaded data: {X_train.shape}, {y_train.shape}')"
   ]
  },
  {
   "cell_type": "code",
   "execution_count": 3,
   "id": "d1d6b14b-4132-4c40-b0d8-2eb02afebbb0",
   "metadata": {},
   "outputs": [
    {
     "name": "stderr",
     "output_type": "stream",
     "text": [
      "C:\\Users\\HP\\AppData\\Local\\Programs\\Python\\Python39\\lib\\site-packages\\keras\\src\\layers\\core\\embedding.py:90: UserWarning: Argument `input_length` is deprecated. Just remove it.\n",
      "  warnings.warn(\n"
     ]
    },
    {
     "data": {
      "text/html": [
       "<pre style=\"white-space:pre;overflow-x:auto;line-height:normal;font-family:Menlo,'DejaVu Sans Mono',consolas,'Courier New',monospace\"><span style=\"font-weight: bold\">Model: \"sequential\"</span>\n",
       "</pre>\n"
      ],
      "text/plain": [
       "\u001b[1mModel: \"sequential\"\u001b[0m\n"
      ]
     },
     "metadata": {},
     "output_type": "display_data"
    },
    {
     "data": {
      "text/html": [
       "<pre style=\"white-space:pre;overflow-x:auto;line-height:normal;font-family:Menlo,'DejaVu Sans Mono',consolas,'Courier New',monospace\">┏━━━━━━━━━━━━━━━━━━━━━━━━━━━━━━━━━━━━━━┳━━━━━━━━━━━━━━━━━━━━━━━━━━━━━┳━━━━━━━━━━━━━━━━━┓\n",
       "┃<span style=\"font-weight: bold\"> Layer (type)                         </span>┃<span style=\"font-weight: bold\"> Output Shape                </span>┃<span style=\"font-weight: bold\">         Param # </span>┃\n",
       "┡━━━━━━━━━━━━━━━━━━━━━━━━━━━━━━━━━━━━━━╇━━━━━━━━━━━━━━━━━━━━━━━━━━━━━╇━━━━━━━━━━━━━━━━━┩\n",
       "│ embedding (<span style=\"color: #0087ff; text-decoration-color: #0087ff\">Embedding</span>)                │ ?                           │     <span style=\"color: #00af00; text-decoration-color: #00af00\">0</span> (unbuilt) │\n",
       "├──────────────────────────────────────┼─────────────────────────────┼─────────────────┤\n",
       "│ lstm (<span style=\"color: #0087ff; text-decoration-color: #0087ff\">LSTM</span>)                          │ ?                           │     <span style=\"color: #00af00; text-decoration-color: #00af00\">0</span> (unbuilt) │\n",
       "├──────────────────────────────────────┼─────────────────────────────┼─────────────────┤\n",
       "│ dense (<span style=\"color: #0087ff; text-decoration-color: #0087ff\">Dense</span>)                        │ ?                           │     <span style=\"color: #00af00; text-decoration-color: #00af00\">0</span> (unbuilt) │\n",
       "└──────────────────────────────────────┴─────────────────────────────┴─────────────────┘\n",
       "</pre>\n"
      ],
      "text/plain": [
       "┏━━━━━━━━━━━━━━━━━━━━━━━━━━━━━━━━━━━━━━┳━━━━━━━━━━━━━━━━━━━━━━━━━━━━━┳━━━━━━━━━━━━━━━━━┓\n",
       "┃\u001b[1m \u001b[0m\u001b[1mLayer (type)                        \u001b[0m\u001b[1m \u001b[0m┃\u001b[1m \u001b[0m\u001b[1mOutput Shape               \u001b[0m\u001b[1m \u001b[0m┃\u001b[1m \u001b[0m\u001b[1m        Param #\u001b[0m\u001b[1m \u001b[0m┃\n",
       "┡━━━━━━━━━━━━━━━━━━━━━━━━━━━━━━━━━━━━━━╇━━━━━━━━━━━━━━━━━━━━━━━━━━━━━╇━━━━━━━━━━━━━━━━━┩\n",
       "│ embedding (\u001b[38;5;33mEmbedding\u001b[0m)                │ ?                           │     \u001b[38;5;34m0\u001b[0m (unbuilt) │\n",
       "├──────────────────────────────────────┼─────────────────────────────┼─────────────────┤\n",
       "│ lstm (\u001b[38;5;33mLSTM\u001b[0m)                          │ ?                           │     \u001b[38;5;34m0\u001b[0m (unbuilt) │\n",
       "├──────────────────────────────────────┼─────────────────────────────┼─────────────────┤\n",
       "│ dense (\u001b[38;5;33mDense\u001b[0m)                        │ ?                           │     \u001b[38;5;34m0\u001b[0m (unbuilt) │\n",
       "└──────────────────────────────────────┴─────────────────────────────┴─────────────────┘\n"
      ]
     },
     "metadata": {},
     "output_type": "display_data"
    },
    {
     "data": {
      "text/html": [
       "<pre style=\"white-space:pre;overflow-x:auto;line-height:normal;font-family:Menlo,'DejaVu Sans Mono',consolas,'Courier New',monospace\"><span style=\"font-weight: bold\"> Total params: </span><span style=\"color: #00af00; text-decoration-color: #00af00\">0</span> (0.00 B)\n",
       "</pre>\n"
      ],
      "text/plain": [
       "\u001b[1m Total params: \u001b[0m\u001b[38;5;34m0\u001b[0m (0.00 B)\n"
      ]
     },
     "metadata": {},
     "output_type": "display_data"
    },
    {
     "data": {
      "text/html": [
       "<pre style=\"white-space:pre;overflow-x:auto;line-height:normal;font-family:Menlo,'DejaVu Sans Mono',consolas,'Courier New',monospace\"><span style=\"font-weight: bold\"> Trainable params: </span><span style=\"color: #00af00; text-decoration-color: #00af00\">0</span> (0.00 B)\n",
       "</pre>\n"
      ],
      "text/plain": [
       "\u001b[1m Trainable params: \u001b[0m\u001b[38;5;34m0\u001b[0m (0.00 B)\n"
      ]
     },
     "metadata": {},
     "output_type": "display_data"
    },
    {
     "data": {
      "text/html": [
       "<pre style=\"white-space:pre;overflow-x:auto;line-height:normal;font-family:Menlo,'DejaVu Sans Mono',consolas,'Courier New',monospace\"><span style=\"font-weight: bold\"> Non-trainable params: </span><span style=\"color: #00af00; text-decoration-color: #00af00\">0</span> (0.00 B)\n",
       "</pre>\n"
      ],
      "text/plain": [
       "\u001b[1m Non-trainable params: \u001b[0m\u001b[38;5;34m0\u001b[0m (0.00 B)\n"
      ]
     },
     "metadata": {},
     "output_type": "display_data"
    },
    {
     "name": "stdout",
     "output_type": "stream",
     "text": [
      "None\n"
     ]
    }
   ],
   "source": [
    "#12. How to build a custom LSTM model for sentiment classification?\n",
    "\n",
    "from keras.models import Sequential\n",
    "from keras.layers import Embedding, LSTM, Dense\n",
    "\n",
    "# Define the LSTM model\n",
    "model = Sequential()\n",
    "model.add(Embedding(input_dim=10000, output_dim=128, input_length=500))\n",
    "model.add(LSTM(128, return_sequences=False))\n",
    "model.add(Dense(1, activation='sigmoid'))\n",
    "\n",
    "# Compile the model\n",
    "model.compile(loss='binary_crossentropy', optimizer='adam', metrics=['accuracy'])\n",
    "\n",
    "print(model.summary())\n"
   ]
  },
  {
   "cell_type": "code",
   "execution_count": 4,
   "id": "fd8cd74d-6009-4c64-b42e-b92336b2e0ec",
   "metadata": {},
   "outputs": [
    {
     "name": "stdout",
     "output_type": "stream",
     "text": [
      "\u001b[1m391/391\u001b[0m \u001b[32m━━━━━━━━━━━━━━━━━━━━\u001b[0m\u001b[37m\u001b[0m \u001b[1m281s\u001b[0m 714ms/step - accuracy: 0.7074 - loss: 0.5396 - val_accuracy: 0.5921 - val_loss: 0.6644\n",
      "Training complete!\n"
     ]
    }
   ],
   "source": [
    "#13. How to train the LSTM model on the IMDb dataset?\n",
    "\n",
    "# Train the model\n",
    "history = model.fit(X_train, y_train, epochs=1, batch_size=64, validation_data=(X_test, y_test))\n",
    "\n",
    "print('Training complete!')"
   ]
  },
  {
   "cell_type": "code",
   "execution_count": 5,
   "id": "e1889295-344f-4fb1-991c-a1ecc1c4fe7e",
   "metadata": {},
   "outputs": [
    {
     "data": {
      "image/png": "[encoded data removed]",
      "text/plain": [
       "<Figure size 1200x600 with 1 Axes>"
      ]
     },
     "metadata": {},
     "output_type": "display_data"
    }
   ],
   "source": [
    "#14. How to visualize the training and validation accuracy?\n",
    "\n",
    "import matplotlib.pyplot as plt\n",
    "\n",
    "# Plot training & validation accuracy\n",
    "plt.figure(figsize=(12, 6))\n",
    "plt.plot(history.history['accuracy'], label='Train Accuracy')\n",
    "plt.plot(history.history['val_accuracy'], label='Validation Accuracy')\n",
    "plt.title('Model Accuracy')\n",
    "plt.ylabel('Accuracy')\n",
    "plt.xlabel('Epoch')\n",
    "plt.legend()\n",
    "plt.show()\n"
   ]
  },
  {
   "cell_type": "code",
   "execution_count": 6,
   "id": "a1e2c77a-1e48-4362-a2d9-6ebffd2130ac",
   "metadata": {},
   "outputs": [
    {
     "data": {
      "image/png": "[encoded data removed]",
      "text/plain": [
       "<Figure size 1200x600 with 1 Axes>"
      ]
     },
     "metadata": {},
     "output_type": "display_data"
    }
   ],
   "source": [
    "#15. How to visualize the training and validation loss?\n",
    "# Plot training & validation loss\n",
    "plt.figure(figsize=(12, 6))\n",
    "plt.plot(history.history['loss'], label='Train Loss')\n",
    "plt.plot(history.history['val_loss'], label='Validation Loss')\n",
    "plt.title('Model Loss')\n",
    "plt.ylabel('Loss')\n",
    "plt.xlabel('Epoch')\n",
    "plt.legend()\n",
    "plt.show()"
   ]
  },
  {
   "cell_type": "code",
   "execution_count": 7,
   "id": "bbff9533-5c5b-4dfa-aeda-23c7fb4c29ab",
   "metadata": {},
   "outputs": [
    {
     "name": "stdout",
     "output_type": "stream",
     "text": [
      "\u001b[1m782/782\u001b[0m \u001b[32m━━━━━━━━━━━━━━━━━━━━\u001b[0m\u001b[37m\u001b[0m \u001b[1m74s\u001b[0m 95ms/step - accuracy: 0.5855 - loss: 0.6678\n",
      "Test Accuracy: 0.59, Test Loss: 0.66\n"
     ]
    }
   ],
   "source": [
    "#16. How to evaluate the model on the test set?\n",
    "# Evaluate the model on the test data\n",
    "test_loss, test_accuracy = model.evaluate(X_test, y_test)\n",
    "print(f'Test Accuracy: {test_accuracy:.2f}, Test Loss: {test_loss:.2f}')"
   ]
  },
  {
   "cell_type": "code",
   "execution_count": 8,
   "id": "f73f40e1-592a-4c3a-836f-021521ce088b",
   "metadata": {},
   "outputs": [
    {
     "name": "stdout",
     "output_type": "stream",
     "text": [
      "\u001b[1m782/782\u001b[0m \u001b[32m━━━━━━━━━━━━━━━━━━━━\u001b[0m\u001b[37m\u001b[0m \u001b[1m75s\u001b[0m 95ms/step\n",
      "[[1]\n",
      " [1]]\n"
     ]
    }
   ],
   "source": [
    "#17. How to make predictions with the trained LSTM model?\n",
    "\n",
    "# Make predictions on test data\n",
    "predictions = model.predict(X_test)\n",
    "\n",
    "# Convert predictions to binary values (0 or 1)\n",
    "predicted_classes = (predictions > 0.5).astype(int)\n",
    "\n",
    "print(predicted_classes[:2])  # Display first 10 predictions"
   ]
  },
  {
   "cell_type": "code",
   "execution_count": 9,
   "id": "d9c42639-9362-4ba7-8d04-25c5325efd7c",
   "metadata": {},
   "outputs": [
    {
     "name": "stdout",
     "output_type": "stream",
     "text": [
      "              precision    recall  f1-score   support\n",
      "\n",
      "           0       0.78      0.26      0.39     12500\n",
      "           1       0.56      0.93      0.69     12500\n",
      "\n",
      "    accuracy                           0.59     25000\n",
      "   macro avg       0.67      0.59      0.54     25000\n",
      "weighted avg       0.67      0.59      0.54     25000\n",
      "\n"
     ]
    }
   ],
   "source": [
    "#18. How to interpret the predictions using a classification report?\n",
    "\n",
    "from sklearn.metrics import classification_report\n",
    "\n",
    "# Generate classification report\n",
    "print(classification_report(y_test, predicted_classes))"
   ]
  },
  {
   "cell_type": "code",
   "execution_count": 10,
   "id": "09dbf48d-77b2-4232-9d4a-22a8cb5645c1",
   "metadata": {},
   "outputs": [
    {
     "name": "stderr",
     "output_type": "stream",
     "text": [
      "WARNING:absl:You are saving your model as an HDF5 file via `model.save()` or `keras.saving.save_model(model)`. This file format is considered legacy. We recommend using instead the native Keras format, e.g. `model.save('my_model.keras')` or `keras.saving.save_model(model, 'my_model.keras')`. \n"
     ]
    },
    {
     "name": "stdout",
     "output_type": "stream",
     "text": [
      "Model saved to disk.\n"
     ]
    }
   ],
   "source": [
    "#19. How to save the trained LSTM model to disk?\n",
    "\n",
    "# Save the model\n",
    "model.save('lstm_sentiment_model.h5')\n",
    "print('Model saved to disk.')"
   ]
  },
  {
   "cell_type": "code",
   "execution_count": 11,
   "id": "b506c4f7-b181-429c-a927-c976a79b2cf8",
   "metadata": {},
   "outputs": [
    {
     "name": "stderr",
     "output_type": "stream",
     "text": [
      "WARNING:absl:Compiled the loaded model, but the compiled metrics have yet to be built. `model.compile_metrics` will be empty until you train or evaluate the model.\n"
     ]
    },
    {
     "name": "stdout",
     "output_type": "stream",
     "text": [
      "\u001b[1m782/782\u001b[0m \u001b[32m━━━━━━━━━━━━━━━━━━━━\u001b[0m\u001b[37m\u001b[0m \u001b[1m70s\u001b[0m 89ms/step\n",
      "[[0.5840858 ]\n",
      " [0.56376886]\n",
      " [0.4059156 ]\n",
      " [0.58360344]\n",
      " [0.67845917]\n",
      " [0.6483647 ]\n",
      " [0.5862253 ]\n",
      " [0.49626258]\n",
      " [0.5772863 ]\n",
      " [0.5143443 ]]\n"
     ]
    }
   ],
   "source": [
    "#20. How to load the saved LSTM model and make predictions?\n",
    "from keras.models import load_model\n",
    "\n",
    "# Load the model\n",
    "loaded_model = load_model('lstm_sentiment_model.h5')\n",
    "\n",
    "# Make predictions with the loaded model\n",
    "loaded_predictions = loaded_model.predict(X_test)\n",
    "print(loaded_predictions[:10])  # Display first 10 predictions"
   ]
  },
  {
   "cell_type": "code",
   "execution_count": null,
   "id": "52b281a4-cce9-4e88-b296-0000deee2b4a",
   "metadata": {},
   "outputs": [],
   "source": []
  }
 ],
 "metadata": {
  "kernelspec": {
   "display_name": "Python 3 (ipykernel)",
   "language": "python",
   "name": "python3"
  },
  "language_info": {
   "codemirror_mode": {
    "name": "ipython",
    "version": 3
   },
   "file_extension": ".py",
   "mimetype": "text/x-python",
   "name": "python",
   "nbconvert_exporter": "python",
   "pygments_lexer": "ipython3",
   "version": "3.9.11"
  }
 },
 "nbformat": 4,
 "nbformat_minor": 5
}
