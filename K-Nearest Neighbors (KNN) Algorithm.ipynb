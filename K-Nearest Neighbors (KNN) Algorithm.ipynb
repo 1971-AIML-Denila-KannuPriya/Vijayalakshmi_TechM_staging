{
 "cells": [
  {
   "cell_type": "markdown",
   "id": "6072b318-32ba-447d-b29a-fed6155ed44b",
   "metadata": {},
   "source": [
    "K-Nearest Neighbors (KNN) Algorithm"
   ]
  },
  {
   "cell_type": "code",
   "execution_count": 2,
   "id": "1d56a85e-2e28-4a95-a012-89080e695640",
   "metadata": {},
   "outputs": [],
   "source": [
    "from math import sqrt\n",
    "from collections import Counter\n",
    "\n",
    "def euclidean_distance(point1, point2):\n",
    "    return sqrt(sum((x - y) ** 2 for x, y in zip(point1, point2)))\n",
    "\n",
    "def knn_classifier(data_points, new_point, k=3):\n",
    "    distances = [(euclidean_distance(point[:-1], new_point), point[-1]) for point in data_points]\n",
    "    distances.sort(key=lambda x: x[0])\n",
    "    nearest_neighbors = [label for _, label in distances[:k]]\n",
    "    return Counter(nearest_neighbors).most_common(1)[0][0]\n"
   ]
  },
  {
   "cell_type": "markdown",
   "id": "eaa2d2b6-31c2-4c27-b0dd-d87e6183b00c",
   "metadata": {},
   "source": [
    "Remove Outliers from Data"
   ]
  },
  {
   "cell_type": "code",
   "execution_count": 3,
   "id": "420eec4e-e64d-4d4d-93a8-5702b58fe26b",
   "metadata": {},
   "outputs": [],
   "source": [
    "def remove_outliers(data):\n",
    "    mean = sum(data) / len(data)\n",
    "    std_dev = (sum([(x - mean) ** 2 for x in data]) / len(data)) ** 0.5\n",
    "    return [x for x in data if abs(x - mean) <= 2 * std_dev]\n"
   ]
  },
  {
   "cell_type": "markdown",
   "id": "b141f475-25cd-48d9-bbac-08060b76dc8d",
   "metadata": {},
   "source": [
    "Matrix Multiplication"
   ]
  },
  {
   "cell_type": "code",
   "execution_count": null,
   "id": "936df709-a84e-4cb7-974c-3a05bc907fcb",
   "metadata": {},
   "outputs": [],
   "source": [
    "def matrix_multiply(mat1, mat2):\n",
    "    rows_mat1 = len(mat1)\n",
    "    cols_mat1 = len(mat1[0])\n",
    "    rows_mat2 = len(mat2)\n",
    "    cols_mat2 = len(mat2[0])\n",
    "\n",
    "    if cols_mat1 != rows_mat2:\n",
    "        raise ValueError(\"Incompatible matrices for multiplication\")\n",
    "\n",
    "    result = [[0 for _ in range(cols_mat2)] for _ in range(rows_mat1)]\n",
    "\n",
    "    for i in range(rows_mat1):\n",
    "        for j in range(cols_mat2):\n",
    "            for k in range(cols_mat1):\n",
    "                result[i][j] += mat1[i][k] * mat2[k][j]\n",
    "    \n",
    "    return result\n"
   ]
  },
  {
   "cell_type": "markdown",
   "id": "cf630ef5-0f54-4a8d-a615-8c3449f2f8ec",
   "metadata": {},
   "source": [
    "Cosine Similarity"
   ]
  },
  {
   "cell_type": "code",
   "execution_count": null,
   "id": "a63901fe-f67d-4be4-ac42-4f74243fd11c",
   "metadata": {},
   "outputs": [],
   "source": [
    "def cosine_similarity(vec1, vec2):\n",
    "    dot_product = sum(x * y for x, y in zip(vec1, vec2))\n",
    "    magnitude_vec1 = sum(x ** 2 for x in vec1) ** 0.5\n",
    "    magnitude_vec2 = sum(y ** 2 for y in vec2) ** 0.5\n",
    "    if magnitude_vec1 == 0 or magnitude_vec2 == 0:\n",
    "        return 0\n",
    "    return dot_product / (magnitude_vec1 * magnitude_vec2)\n"
   ]
  },
  {
   "cell_type": "markdown",
   "id": "6387da20-4671-4216-85ab-282a79699704",
   "metadata": {},
   "source": [
    " Min-Heap Using a Priority Queue"
   ]
  },
  {
   "cell_type": "code",
   "execution_count": 5,
   "id": "ffae53cb-66b2-44bb-9ad1-c48ba1288cf9",
   "metadata": {},
   "outputs": [],
   "source": [
    "import heapq\n",
    "\n",
    "class MinHeap:\n",
    "    def __init__(self):\n",
    "        self.heap = []\n",
    "    \n",
    "    def insert(self, value):\n",
    "        heapq.heappush(self.heap, value)\n",
    "    \n",
    "    def get_min(self):\n",
    "        if self.heap:\n",
    "            return self.heap[0]\n",
    "        return None\n",
    "    \n",
    "    def extract_min(self):\n",
    "        if self.heap:\n",
    "            return heapq.heappop(self.heap)\n",
    "        return None\n"
   ]
  },
  {
   "cell_type": "markdown",
   "id": "40fbe6fc-fa2c-473e-b7f6-14e3ead8a148",
   "metadata": {},
   "source": [
    " Support Vector Machine (SVM) Classifier"
   ]
  },
  {
   "cell_type": "code",
   "execution_count": 6,
   "id": "4ad9b460-9f55-4e9e-be44-d340b0896de2",
   "metadata": {},
   "outputs": [],
   "source": [
    "def svm_classifier(data_points, new_point):\n",
    "    pass\n"
   ]
  },
  {
   "cell_type": "markdown",
   "id": "66f6316e-8812-40a8-87ec-a7c32c99e1a5",
   "metadata": {},
   "source": [
    "Calculate the Z-Score of Data"
   ]
  },
  {
   "cell_type": "code",
   "execution_count": 7,
   "id": "f421835c-94f3-4069-9c01-518b7687a9c3",
   "metadata": {},
   "outputs": [],
   "source": [
    "def calculate_z_scores(data):\n",
    "    mean = sum(data) / len(data)\n",
    "    std_dev = (sum([(x - mean) ** 2 for x in data]) / len(data)) ** 0.5\n",
    "    return [(x - mean) / std_dev for x in data]\n"
   ]
  },
  {
   "cell_type": "markdown",
   "id": "381ac057-b15a-49e1-9dee-8744faeb048f",
   "metadata": {},
   "source": [
    "K-Means Clustering"
   ]
  },
  {
   "cell_type": "code",
   "execution_count": 8,
   "id": "534551be-d436-4aaf-bc2d-d2a4307a0831",
   "metadata": {},
   "outputs": [],
   "source": [
    "from random import sample\n",
    "\n",
    "def euclidean_distance(point1, point2):\n",
    "    return sqrt(sum((x - y) ** 2 for x, y in zip(point1, point2)))\n",
    "\n",
    "def k_means_clustering(data_points, k):\n",
    "    centroids = sample(data_points, k)\n",
    "    for _ in range(100):\n",
    "        clusters = {i: [] for i in range(k)}\n",
    "        for point in data_points:\n",
    "            distances = [euclidean_distance(point, centroid) for centroid in centroids]\n",
    "            cluster_index = distances.index(min(distances))\n",
    "            clusters[cluster_index].append(point)\n",
    "        new_centroids = [tuple(map(lambda x: sum(x) / len(x), zip(*cluster))) for cluster in clusters.values()]\n",
    "        if new_centroids == centroids:\n",
    "            break\n",
    "        centroids = new_centroids\n",
    "    return centroids\n"
   ]
  },
  {
   "cell_type": "markdown",
   "id": "49caf59e-f7d2-41d3-8e44-3d3f56613597",
   "metadata": {},
   "source": [
    "Evaluate Classification Model Using F1 Score"
   ]
  },
  {
   "cell_type": "code",
   "execution_count": 9,
   "id": "d6c68659-1023-4282-a1bf-a49f9ee014cc",
   "metadata": {},
   "outputs": [],
   "source": [
    "def f1_score(true_labels, predicted_labels):\n",
    "    tp = sum([1 for true, pred in zip(true_labels, predicted_labels) if true == pred == 1])\n",
    "    fp = sum([1 for true, pred in zip(true_labels, predicted_labels) if true == 0 and pred == 1])\n",
    "    fn = sum([1 for true, pred in zip(true_labels, predicted_labels) if true == 1 and pred == 0])\n",
    "    \n",
    "    precision = tp / (tp + fp) if (tp + fp) > 0 else 0\n",
    "    recall = tp / (tp + fn) if (tp + fn) > 0 else 0\n",
    "    if precision + recall == 0:\n",
    "        return 0\n",
    "    return 2 * (precision * recall) / (precision + recall)\n"
   ]
  },
  {
   "cell_type": "markdown",
   "id": "ef2fc7f8-fd8f-4987-a722-947aed021a81",
   "metadata": {},
   "source": [
    "Visualize Data Distribution Using a Histogram"
   ]
  },
  {
   "cell_type": "code",
   "execution_count": 10,
   "id": "6b406e23-8fa9-4687-85d2-4c3f53293b03",
   "metadata": {},
   "outputs": [],
   "source": [
    "def create_histogram(data, bins):\n",
    "    min_val, max_val = min(data), max(data)\n",
    "    bin_size = (max_val - min_val) / bins\n",
    "    histogram = {}\n",
    "    \n",
    "    for i in range(bins):\n",
    "        bin_range = f\"{min_val + i * bin_size:.2f} - {min_val + (i + 1) * bin_size:.2f}\"\n",
    "        histogram[bin_range] = 0\n",
    "    \n",
    "    for value in data:\n",
    "        bin_index = min(int((value - min_val) // bin_size), bins - 1)\n",
    "        bin_range = list(histogram.keys())[bin_index]\n",
    "        histogram[bin_range] += 1\n",
    "    \n",
    "    return histogram\n"
   ]
  },
  {
   "cell_type": "markdown",
   "id": "0ac30d24-d891-469a-ab3b-98449fa7ce83",
   "metadata": {},
   "source": [
    "Decision Tree Classifier"
   ]
  },
  {
   "cell_type": "code",
   "execution_count": 11,
   "id": "61fbb447-7865-49bb-9341-1a6728a2c25b",
   "metadata": {},
   "outputs": [],
   "source": [
    "def decision_tree_classifier(data_points, new_point):\n",
    "    pass\n"
   ]
  },
  {
   "cell_type": "markdown",
   "id": "81ebfa43-53f6-4ed8-b689-2fff6d2eb9d7",
   "metadata": {},
   "source": [
    "Normalize Data Using Min-Max Scaling"
   ]
  },
  {
   "cell_type": "code",
   "execution_count": 12,
   "id": "a8ec8742-fa6f-4642-aadc-52ed703056f1",
   "metadata": {},
   "outputs": [],
   "source": [
    "def min_max_normalization(data):\n",
    "    min_val, max_val = min(data), max(data)\n",
    "    return [(x - min_val) / (max_val - min_val) for x in data]\n"
   ]
  },
  {
   "cell_type": "markdown",
   "id": "40bb4118-2917-445c-bc3f-3e05e5c6ba76",
   "metadata": {},
   "source": [
    "Calculate Euclidean Distance Between Two Points"
   ]
  },
  {
   "cell_type": "code",
   "execution_count": 13,
   "id": "2b4da482-36e5-4457-b242-39da263f7f61",
   "metadata": {},
   "outputs": [],
   "source": [
    "def euclidean_distance(point1, point2):\n",
    "    return sqrt(sum((x - y) ** 2 for x, y in zip(point1, point2)))\n"
   ]
  },
  {
   "cell_type": "code",
   "execution_count": null,
   "id": "6ec8023e-e0c0-4d05-b060-69771f13aba9",
   "metadata": {},
   "outputs": [],
   "source": []
  }
 ],
 "metadata": {
  "kernelspec": {
   "display_name": "Python 3 (ipykernel)",
   "language": "python",
   "name": "python3"
  },
  "language_info": {
   "codemirror_mode": {
    "name": "ipython",
    "version": 3
   },
   "file_extension": ".py",
   "mimetype": "text/x-python",
   "name": "python",
   "nbconvert_exporter": "python",
   "pygments_lexer": "ipython3",
   "version": "3.12.4"
  }
 },
 "nbformat": 4,
 "nbformat_minor": 5
}
