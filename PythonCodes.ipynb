{
 "cells": [
  {
   "cell_type": "code",
   "execution_count": 4,
   "id": "4091fd16-df8b-40c7-9fa1-91a4b79aebc1",
   "metadata": {},
   "outputs": [
    {
     "name": "stdout",
     "output_type": "stream",
     "text": [
      "45\n"
     ]
    }
   ],
   "source": [
    "lst = [10, 20, 4, 45, 99]\n",
    "unique_lst = list(set(lst))  \n",
    "unique_lst.sort()           \n",
    "print(f\"Seunique_lst[-2])        "
   ]
  },
  {
   "cell_type": "code",
   "execution_count": 10,
   "id": "448de514-53ed-40e5-baf9-716406d12d33",
   "metadata": {},
   "outputs": [
    {
     "name": "stdin",
     "output_type": "stream",
     "text": [
      " 9\n"
     ]
    },
    {
     "name": "stdout",
     "output_type": "stream",
     "text": [
      " 9 is a prime number\n",
      " 9 is not a prime number\n"
     ]
    }
   ],
   "source": [
    "num=int(input())\n",
    "if num <2:\n",
    "    print(f\" {num} is not a prime number\")\n",
    "for i in range(2,int(num**0.5)+1):\n",
    "    if num % i==0:\n",
    "        print(f\" {num} is not a prime number\")\n",
    "    else:\n",
    "        print(f\" {num} is a prime number\")\n",
    "        "
   ]
  },
  {
   "cell_type": "code",
   "execution_count": 11,
   "id": "19f60194-7cfc-4226-9e3e-802e3b5a9e83",
   "metadata": {},
   "outputs": [
    {
     "name": "stdout",
     "output_type": "stream",
     "text": [
      "erutaver\n"
     ]
    }
   ],
   "source": [
    "str=\"revature\"\n",
    "print(str[::-1])"
   ]
  },
  {
   "cell_type": "code",
   "execution_count": 18,
   "id": "8013f636-79ad-4fec-88fb-0005269ea9a7",
   "metadata": {},
   "outputs": [
    {
     "name": "stdout",
     "output_type": "stream",
     "text": [
      "[1, 2, 3, 4, 5, 6]\n"
     ]
    }
   ],
   "source": [
    "a1=[1,2,3]\n",
    "a2=[4,5,6]\n",
    "i=0\n",
    "j=0\n",
    "a3=[]\n",
    "while i<len(a1):\n",
    "    a3.append(a1[i])\n",
    "    i+=1\n",
    "while j<len(a2):\n",
    "    a3.append(a2[j])\n",
    "    j+=1\n",
    "\n",
    "print(a3)\n",
    "        \n",
    "        "
   ]
  },
  {
   "cell_type": "code",
   "execution_count": 22,
   "id": "eec7d857-de1b-49f0-9b3a-a61268277cb4",
   "metadata": {},
   "outputs": [
    {
     "name": "stdin",
     "output_type": "stream",
     "text": [
      " 5\n"
     ]
    },
    {
     "name": "stdout",
     "output_type": "stream",
     "text": [
      "120\n"
     ]
    }
   ],
   "source": [
    "def factorial(num):\n",
    "    if num == 0 or num == 1:\n",
    "        return 1\n",
    "    else:\n",
    "        return num * factorial(num - 1)\n",
    "\n",
    "num = int(input())\n",
    "print(factorial(num))\n"
   ]
  },
  {
   "cell_type": "code",
   "execution_count": 23,
   "id": "0b59ceed-5924-42fa-810f-14e7ab8af061",
   "metadata": {},
   "outputs": [
    {
     "name": "stdout",
     "output_type": "stream",
     "text": [
      "6\n"
     ]
    }
   ],
   "source": [
    "def max_subarray_sum(arr):\n",
    "    max_sum = curr_sum = arr[0]\n",
    "    for num in arr[1:]:\n",
    "        curr_sum = max(num, curr_sum + num)\n",
    "        max_sum = max(max_sum, curr_sum)\n",
    "    return max_sum\n",
    "\n",
    "arr = [-2, 1, -3, 4, -1, 2, 1, -5, 4]\n",
    "print(max_subarray_sum(arr))  \n"
   ]
  },
  {
   "cell_type": "code",
   "execution_count": 25,
   "id": "a7890bd4-1eda-4e54-a61e-ee6e3b063a91",
   "metadata": {},
   "outputs": [
    {
     "name": "stdout",
     "output_type": "stream",
     "text": [
      "True\n"
     ]
    }
   ],
   "source": [
    "def is_palindrome(s):\n",
    "    return s == s[::-1]\n",
    "\n",
    "print(is_palindrome(\"madam\")) \n"
   ]
  },
  {
   "cell_type": "code",
   "execution_count": null,
   "id": "6dbc895d-3bc5-4328-9448-3cfc9a623c1a",
   "metadata": {},
   "outputs": [],
   "source": [
    "def decimal_to_binary(n):\n",
    "    if n == 0:\n",
    "        return '0'\n",
    "    binary = ''\n",
    "    while n > 0:\n",
    "        binary = str(n % 2) + binary  \n",
    "        n //= 2\n",
    "    return binary\n",
    "\n",
    "print(decimal_to_binary(10))  \n"
   ]
  },
  {
   "cell_type": "code",
   "execution_count": 29,
   "id": "4d792f49-208f-45a5-91f6-24fcfd515699",
   "metadata": {},
   "outputs": [
    {
     "name": "stdout",
     "output_type": "stream",
     "text": [
      "[(2, 4), (1, 5)]\n"
     ]
    }
   ],
   "source": [
    "def find_pairs(arr, target):\n",
    "    pairs = []\n",
    "    seen = set()\n",
    "    for num in arr:\n",
    "        diff = target - num\n",
    "        if diff in seen:\n",
    "            pairs.append((diff, num))\n",
    "        seen.add(num)\n",
    "    return pairs\n",
    "\n",
    "arr = [1, 2, 3, 4, 5]\n",
    "target = 6\n",
    "print(find_pairs(arr, target))  \n"
   ]
  },
  {
   "cell_type": "code",
   "execution_count": 30,
   "id": "7b9679dd-d61a-4af3-b2ff-96dfed52e5cc",
   "metadata": {},
   "outputs": [
    {
     "name": "stdout",
     "output_type": "stream",
     "text": [
      "Counter({3: 3, 2: 2, 1: 1})\n"
     ]
    }
   ],
   "source": [
    "from collections import Counter\n",
    "\n",
    "def count_frequency(lst):\n",
    "    return Counter(lst)\n",
    "\n",
    "lst = [1, 2, 2, 3, 3, 3]\n",
    "print(count_frequency(lst)) \n"
   ]
  },
  {
   "cell_type": "code",
   "execution_count": 31,
   "id": "e8f052b5-7e53-48a2-81c7-268f3754851b",
   "metadata": {},
   "outputs": [
    {
     "name": "stdout",
     "output_type": "stream",
     "text": [
      "[0, 1, 1, 2, 3]\n"
     ]
    }
   ],
   "source": [
    "def fibonacci(n):\n",
    "    if n <= 0:\n",
    "        return []\n",
    "    elif n == 1:\n",
    "        return [0]\n",
    "    elif n == 2:\n",
    "        return [0, 1]\n",
    "    fib_seq = fibonacci(n - 1)\n",
    "    fib_seq.append(fib_seq[-1] + fib_seq[-2])\n",
    "    return fib_seq\n",
    "\n",
    "print(fibonacci(5)) \n"
   ]
  },
  {
   "cell_type": "code",
   "execution_count": 32,
   "id": "87411cc1-3294-416d-9c89-73d11db8ac24",
   "metadata": {},
   "outputs": [
    {
     "name": "stdout",
     "output_type": "stream",
     "text": [
      "[1, 2, 3, 4]\n"
     ]
    }
   ],
   "source": [
    "def remove_duplicates(lst):\n",
    "    seen = set()\n",
    "    return [x for x in lst if not (x in seen or seen.add(x))]\n",
    "\n",
    "lst = [1, 2, 2, 3, 3, 4]\n",
    "print(remove_duplicates(lst))  \n"
   ]
  },
  {
   "cell_type": "code",
   "execution_count": 33,
   "id": "6ac8985c-a7d2-4954-801c-fcb3eee57d93",
   "metadata": {},
   "outputs": [
    {
     "name": "stdout",
     "output_type": "stream",
     "text": [
      "True\n"
     ]
    }
   ],
   "source": [
    "def are_anagrams(str1, str2):\n",
    "    return sorted(str1) == sorted(str2)\n",
    "\n",
    "print(are_anagrams(\"listen\", \"silent\"))  "
   ]
  },
  {
   "cell_type": "code",
   "execution_count": 34,
   "id": "ce829327-c4e8-4b32-8736-e3965bb7e2f0",
   "metadata": {},
   "outputs": [
    {
     "name": "stdout",
     "output_type": "stream",
     "text": [
      "(2, 3)\n"
     ]
    }
   ],
   "source": [
    "def count_vowels_consonants(s):\n",
    "    vowels = set(\"aeiouAEIOU\")\n",
    "    v_count = sum(1 for char in s if char in vowels)\n",
    "    c_count = sum(1 for char in s if char.isalpha() and char not in vowels)\n",
    "    return v_count, c_count\n",
    "\n",
    "print(count_vowels_consonants(\"hello\"))  \n"
   ]
  },
  {
   "cell_type": "code",
   "execution_count": 35,
   "id": "663816c6-1607-45dd-9e22-efa45a78585c",
   "metadata": {},
   "outputs": [
    {
     "name": "stdout",
     "output_type": "stream",
     "text": [
      "3\n"
     ]
    }
   ],
   "source": [
    "def binary_search(arr, target):\n",
    "    left, right = 0, len(arr) - 1\n",
    "    while left <= right:\n",
    "        mid = (left + right) // 2\n",
    "        if arr[mid] == target:\n",
    "            return mid\n",
    "        elif arr[mid] < target:\n",
    "            left = mid + 1\n",
    "        else:\n",
    "            right = mid - 1\n",
    "    return -1\n",
    "\n",
    "arr = [1, 2, 3, 4, 5]\n",
    "target = 4\n",
    "print(binary_search(arr, target))  \n"
   ]
  },
  {
   "cell_type": "code",
   "execution_count": 36,
   "id": "7553977a-b625-439e-bbd4-7d0365950b6b",
   "metadata": {},
   "outputs": [
    {
     "name": "stdout",
     "output_type": "stream",
     "text": [
      "True\n"
     ]
    }
   ],
   "source": [
    "def is_sorted(lst):\n",
    "    return all(lst[i] <= lst[i + 1] for i in range(len(lst) - 1))\n",
    "\n",
    "lst = [1, 2, 3, 4]\n",
    "print(is_sorted(lst))  \n"
   ]
  },
  {
   "cell_type": "code",
   "execution_count": 37,
   "id": "405cc121-473a-4d35-b9ed-3d8cdc5a8d18",
   "metadata": {},
   "outputs": [
    {
     "name": "stdout",
     "output_type": "stream",
     "text": [
      "[[1, 4], [2, 5], [3, 6]]\n"
     ]
    }
   ],
   "source": [
    "def transpose_matrix(matrix):\n",
    "    return [list(row) for row in zip(*matrix)]\n",
    "\n",
    "matrix = [[1, 2, 3], [4, 5, 6]]\n",
    "print(transpose_matrix(matrix))  \n"
   ]
  },
  {
   "cell_type": "code",
   "execution_count": 38,
   "id": "dc484ce3-47e7-4e8a-a40a-8744debe484e",
   "metadata": {},
   "outputs": [
    {
     "name": "stdout",
     "output_type": "stream",
     "text": [
      "6\n"
     ]
    }
   ],
   "source": [
    "def sum_of_digits(n):\n",
    "    if n == 0:\n",
    "        return 0\n",
    "    return n % 10 + sum_of_digits(n // 10)\n",
    "\n",
    "print(sum_of_digits(123))  \n"
   ]
  },
  {
   "cell_type": "code",
   "execution_count": 39,
   "id": "9c86a1ac-e80d-484f-9a31-2acdd80d20a7",
   "metadata": {},
   "outputs": [
    {
     "name": "stdout",
     "output_type": "stream",
     "text": [
      "[3, 4]\n"
     ]
    }
   ],
   "source": [
    "def list_intersection(lst1, lst2):\n",
    "    return list(set(lst1) & set(lst2))\n",
    "\n",
    "lst1 = [1, 2, 3, 4]\n",
    "lst2 = [3, 4, 5, 6]\n",
    "print(list_intersection(lst1, lst2))  \n"
   ]
  },
  {
   "cell_type": "code",
   "execution_count": 40,
   "id": "f04f8d21-2897-485f-af6d-fa1cd6f660c5",
   "metadata": {},
   "outputs": [
    {
     "name": "stdout",
     "output_type": "stream",
     "text": [
      "['abc', 'acb', 'bac', 'bca', 'cab', 'cba']\n"
     ]
    }
   ],
   "source": [
    "from itertools import permutations\n",
    "\n",
    "def all_permutations(s):\n",
    "    return [''.join(p) for p in permutations(s)]\n",
    "\n",
    "print(all_permutations(\"abc\"))  \n"
   ]
  },
  {
   "cell_type": "code",
   "execution_count": null,
   "id": "24f228a6-63d8-4a59-ba40-c6f392d9d255",
   "metadata": {},
   "outputs": [],
   "source": []
  }
 ],
 "metadata": {
  "kernelspec": {
   "display_name": "Python 3 (ipykernel)",
   "language": "python",
   "name": "python3"
  },
  "language_info": {
   "codemirror_mode": {
    "name": "ipython",
    "version": 3
   },
   "file_extension": ".py",
   "mimetype": "text/x-python",
   "name": "python",
   "nbconvert_exporter": "python",
   "pygments_lexer": "ipython3",
   "version": "3.9.11"
  }
 },
 "nbformat": 4,
 "nbformat_minor": 5
}
