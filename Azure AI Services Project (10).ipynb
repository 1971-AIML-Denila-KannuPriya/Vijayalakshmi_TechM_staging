{
 "cells": [
  {
   "cell_type": "code",
   "execution_count": null,
   "id": "4d3a84ec-9ee1-46f1-ba3c-f8add082f8a4",
   "metadata": {},
   "outputs": [],
   "source": [
    "Data Collection"
   ]
  },
  {
   "cell_type": "code",
   "execution_count": 57,
   "id": "d09c921c-b4bc-4b88-9bbb-8f652e65b1b6",
   "metadata": {},
   "outputs": [
    {
     "name": "stdout",
     "output_type": "stream",
     "text": [
      "   Id   ProductId          UserId                      ProfileName  \\\n",
      "0   1  B001E4KFG0  A3SGXH7AUHU8GW                       delmartian   \n",
      "1   2  B00813GRG4  A1D87F6ZCVE5NK                           dll pa   \n",
      "2   3  B000LQOCH0   ABXLMWJIXXAIN  Natalia Corres \"Natalia Corres\"   \n",
      "3   4  B000UA0QIQ  A395BORC6FGVXV                             Karl   \n",
      "4   5  B006K2ZZ7K  A1UQRSCLF8GW1T    Michael D. Bigham \"M. Wassir\"   \n",
      "\n",
      "   HelpfulnessNumerator  HelpfulnessDenominator  Score        Time  \\\n",
      "0                     1                       1      5  1303862400   \n",
      "1                     0                       0      1  1346976000   \n",
      "2                     1                       1      4  1219017600   \n",
      "3                     3                       3      2  1307923200   \n",
      "4                     0                       0      5  1350777600   \n",
      "\n",
      "                 Summary                                               Text  \n",
      "0  Good Quality Dog Food  I have bought several of the Vitality canned d...  \n",
      "1      Not as Advertised  Product arrived labeled as Jumbo Salted Peanut...  \n",
      "2  \"Delight\" says it all  This is a confection that has been around a fe...  \n",
      "3         Cough Medicine  If you are looking for the secret ingredient i...  \n",
      "4            Great taffy  Great taffy at a great price.  There was a wid...  \n"
     ]
    }
   ],
   "source": [
    "import pandas as pd\n",
    "from azure.ai.textanalytics import TextAnalyticsClient\n",
    "from azure.core.credentials import AzureKeyCredential\n",
    "from azure.core.exceptions import ServiceRequestError\n",
    "import matplotlib.pyplot as plt\n",
    "\n",
    "data = pd.read_csv(\"Reviews.csv\")\n",
    "data=data.head()\n",
    "print(data)\n",
    "\n",
    "def authenticate_client():\n",
    "    key = \"b4fe90ed47f647b5b95b90cf976db83f\"\n",
    "    endpoint = \"https://staging-language-model.cognitiveservices.azure.com/\"\n",
    "    client = TextAnalyticsClient(endpoint=endpoint, credential=AzureKeyCredential(key))\n",
    "    return client\n",
    "\n",
    "client = authenticate_client()"
   ]
  },
  {
   "cell_type": "code",
   "execution_count": null,
   "id": "345df5e9-e20c-4480-9bb1-ac01f481f914",
   "metadata": {},
   "outputs": [],
   "source": [
    "Data Preprocessing"
   ]
  },
  {
   "cell_type": "code",
   "execution_count": 58,
   "id": "a1c5fd0b-7002-49a2-a944-c9ef0077e469",
   "metadata": {},
   "outputs": [
    {
     "name": "stdout",
     "output_type": "stream",
     "text": [
      "0    i have bought several of the vitality canned d...\n",
      "1    product arrived labeled as jumbo salted peanut...\n",
      "2    this is a confection that has been around a fe...\n",
      "3    if you are looking for the secret ingredient i...\n",
      "4    great taffy at a great price  there was a wide...\n",
      "Name: Text, dtype: object\n",
      "Processed texts saved to 'processed_texts.txt'\n"
     ]
    }
   ],
   "source": [
    "import re\n",
    "import string\n",
    "\n",
    "def preprocess_text(text):\n",
    "    text = text.lower()\n",
    "    text = text.translate(str.maketrans('', '', string.punctuation))\n",
    "    text = re.sub(r'\\d+', '', text) \n",
    "    text = text.strip()\n",
    "    return text\n",
    "\n",
    "processed_texts = data['Text'].apply(preprocess_text)\n",
    "\n",
    "print(processed_texts[:5])\n",
    "\n",
    "with open('processed_texts.txt', 'w', encoding='utf-8') as f:\n",
    "    for text in processed_texts:\n",
    "        f.write(text + '\\n')\n",
    "\n",
    "print(\"Processed texts saved to 'processed_texts.txt'\")\n"
   ]
  },
  {
   "cell_type": "code",
   "execution_count": null,
   "id": "a00686b6-8ef3-497d-9473-9eeb0380ce26",
   "metadata": {},
   "outputs": [],
   "source": [
    "Sentiment Analysis"
   ]
  },
  {
   "cell_type": "code",
   "execution_count": 62,
   "id": "fb1114fb-a375-4c09-bdca-7ece63a32f8f",
   "metadata": {},
   "outputs": [
    {
     "name": "stdout",
     "output_type": "stream",
     "text": [
      "Document 0: Sentiment - positive\n",
      "  Positive score: 1.0\n",
      "  Neutral score: 0.0\n",
      "  Negative score: 0.0\n",
      "Document 1: Sentiment - negative\n",
      "  Positive score: 0.0\n",
      "  Neutral score: 0.07\n",
      "  Negative score: 0.93\n",
      "Document 2: Sentiment - mixed\n",
      "  Positive score: 0.5\n",
      "  Neutral score: 0.02\n",
      "  Negative score: 0.48\n",
      "Document 3: Sentiment - positive\n",
      "  Positive score: 1.0\n",
      "  Neutral score: 0.0\n",
      "  Negative score: 0.0\n",
      "Document 4: Sentiment - positive\n",
      "  Positive score: 0.91\n",
      "  Neutral score: 0.08\n",
      "  Negative score: 0.01\n"
     ]
    }
   ],
   "source": [
    "def sentiment_analysis(client, documents):\n",
    "    try:\n",
    "        sentiments = {\"positive\": 0, \"neutral\": 0, \"negative\": 0, \"mixed\": 0}  # Add 'mixed'\n",
    "        # Process in batches of 5\n",
    "        for i in range(0, len(documents), 5):\n",
    "            batch = documents[i:i+5]\n",
    "            response = client.analyze_sentiment(documents=batch)\n",
    "            for idx, doc in enumerate(response):\n",
    "                print(f\"Document {i + idx}: Sentiment - {doc.sentiment}\")\n",
    "                print(f\"  Positive score: {doc.confidence_scores.positive}\")\n",
    "                print(f\"  Neutral score: {doc.confidence_scores.neutral}\")\n",
    "                print(f\"  Negative score: {doc.confidence_scores.negative}\")\n",
    "                sentiments[doc.sentiment] += 1\n",
    "        return sentiments\n",
    "    except ServiceRequestError as e:\n",
    "        print(f\"An error occurred during the sentiment analysis request: {str(e)}\")\n",
    "        return None\n",
    "        \n",
    "documents = data['Text'].tolist()\n",
    "sentiments = sentiment_analysis(client, documents[:10])"
   ]
  },
  {
   "cell_type": "code",
   "execution_count": null,
   "id": "d3caeda1-3b67-47cb-9c70-8eb2521a4eab",
   "metadata": {},
   "outputs": [],
   "source": [
    "Entity Recognition and Key Phrase Extraction"
   ]
  },
  {
   "cell_type": "code",
   "execution_count": 63,
   "id": "c3792f29-8bc2-420a-8447-905422b5aebc",
   "metadata": {},
   "outputs": [
    {
     "name": "stdout",
     "output_type": "stream",
     "text": [
      "Document 0:\n",
      "  Entity: Vitality, Type: Organization, Subtype: Sports\n",
      "  Entity: canned dog food products, Type: Product, Subtype: None\n",
      "  Entity: stew, Type: Product, Subtype: None\n",
      "  Entity: processed meat, Type: Product, Subtype: None\n",
      "  Entity: product, Type: Product, Subtype: None\n",
      "Document 1:\n",
      "  Entity: Product, Type: Product, Subtype: None\n",
      "  Entity: Jumbo Salted Peanuts, Type: Product, Subtype: None\n",
      "  Entity: peanuts, Type: Product, Subtype: None\n",
      "  Entity: vendor, Type: PersonType, Subtype: None\n",
      "Document 2:\n",
      "  Entity: confection, Type: Product, Subtype: None\n",
      "  Entity: gelatin, Type: Product, Subtype: None\n",
      "  Entity: Filberts, Type: Product, Subtype: None\n",
      "  Entity: powdered sugar, Type: Product, Subtype: None\n",
      "  Entity: heaven, Type: Location, Subtype: Structural\n",
      "  Entity: C.S. Lewis, Type: Person, Subtype: None\n",
      "  Entity: Edmund, Type: Person, Subtype: None\n",
      "  Entity: Brother, Type: PersonType, Subtype: None\n",
      "  Entity: Sisters, Type: PersonType, Subtype: None\n",
      "  Entity: Witch, Type: PersonType, Subtype: None\n",
      "Document 3:\n",
      "  Entity: Robitussin, Type: Product, Subtype: None\n",
      "  Entity: Root Beer Extract, Type: Product, Subtype: None\n",
      "  Entity: cherry soda, Type: Product, Subtype: None\n",
      "Document 4:\n",
      "  Entity: taffy, Type: Product, Subtype: None\n",
      "  Entity: taffy, Type: Product, Subtype: None\n",
      "  Entity: Delivery, Type: Skill, Subtype: None\n",
      "  Entity: lover, Type: PersonType, Subtype: None\n",
      "Document 0: Key Phrases: Vitality canned dog food products, good quality, processed meat, My Labrador, stew\n",
      "Document 1: Key Phrases: Jumbo Salted Peanuts, Product, error, vendor\n",
      "Document 2: Key Phrases: light, pillowy citrus gelatin, C.S. Lewis, tiny squares, powdered sugar, tiny mouthful, The Lion, The Wardrobe, yummy treat, The Witch, confection, centuries, nuts, case, Filberts, heaven, story, Edmund, Brother, Sisters\n",
      "Document 3: Key Phrases: Root Beer Extract, secret ingredient, cherry soda, Robitussin, addition, flavor\n",
      "Document 4: Key Phrases: Great taffy, great price, wide assortment, yummy taffy, taffy lover, Delivery, deal\n"
     ]
    }
   ],
   "source": [
    "def entity_recognition(client, documents):\n",
    "    try:\n",
    "        # Process in batches of 5\n",
    "        for i in range(0, len(documents), 5):\n",
    "            batch = documents[i:i+5]\n",
    "            response = client.recognize_entities(documents=batch)\n",
    "            for idx, doc in enumerate(response):\n",
    "                print(f\"Document {i + idx}:\")\n",
    "                for entity in doc.entities:\n",
    "                    print(f\"  Entity: {entity.text}, Type: {entity.category}, Subtype: {entity.subcategory}\")\n",
    "    except ServiceRequestError as e:\n",
    "        print(f\"An error occurred during the entity recognition request: {str(e)}\")\n",
    "\n",
    "def key_phrase_extraction(client, documents):\n",
    "    try:\n",
    "        # Process in batches of 5\n",
    "        for i in range(0, len(documents), 5):\n",
    "            batch = documents[i:i+5]\n",
    "            response = client.extract_key_phrases(documents=batch)\n",
    "            for idx, doc in enumerate(response):\n",
    "                print(f\"Document {i + idx}: Key Phrases: {', '.join(doc.key_phrases)}\")\n",
    "    except ServiceRequestError as e:\n",
    "        print(f\"An error occurred during the key phrase extraction request: {str(e)}\")\n",
    "documents = data['Text'].tolist()\n",
    "entity_recognition(client, documents[:10])\n",
    "key_phrase_extraction(client, documents[:10])"
   ]
  },
  {
   "cell_type": "code",
   "execution_count": null,
   "id": "ba5d365d-7f7a-4bae-8356-736e6f2fddc0",
   "metadata": {},
   "outputs": [],
   "source": [
    "Data Storage and Visualization"
   ]
  },
  {
   "cell_type": "code",
   "execution_count": 65,
   "id": "85feb961-245a-4e4e-8361-b88e1621411a",
   "metadata": {},
   "outputs": [
    {
     "data": {
      "image/png": "[encoded data removed]",
      "text/plain": [
       "<Figure size 640x480 with 1 Axes>"
      ]
     },
     "metadata": {},
     "output_type": "display_data"
    }
   ],
   "source": [
    "    import matplotlib.pyplot as plt\n",
    "    def plot_sentiment_analysis(sentiments):\n",
    "        labels = ['Positive', 'Neutral', 'Negative', 'Mixed']\n",
    "        sizes = [sentiments['positive'], sentiments['neutral'], sentiments['negative'], sentiments['mixed']]\n",
    "        colors = ['#ff9999', '#66b3ff', '#99ff99', '#ffcc99']\n",
    "        plt.pie(sizes, labels=labels, colors=colors, autopct='%1.1f%%', startangle=140)\n",
    "        plt.axis('equal')\n",
    "        plt.title(\"Sentiment Breakdown of Reviews\")\n",
    "        plt.show()\n",
    "\n",
    "    plot_sentiment_analysis(sentiments)\n",
    "\n",
    "\n"
   ]
  },
  {
   "cell_type": "code",
   "execution_count": null,
   "id": "4a39ea1d-ab8c-4659-b9b4-2b521296efc4",
   "metadata": {},
   "outputs": [],
   "source": []
  }
 ],
 "metadata": {
  "kernelspec": {
   "display_name": "Python 3 (ipykernel)",
   "language": "python",
   "name": "python3"
  },
  "language_info": {
   "codemirror_mode": {
    "name": "ipython",
    "version": 3
   },
   "file_extension": ".py",
   "mimetype": "text/x-python",
   "name": "python",
   "nbconvert_exporter": "python",
   "pygments_lexer": "ipython3",
   "version": "3.12.4"
  }
 },
 "nbformat": 4,
 "nbformat_minor": 5
}
